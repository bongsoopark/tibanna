{
 "cells": [
  {
   "cell_type": "code",
   "execution_count": 28,
   "metadata": {},
   "outputs": [
    {
     "name": "stdout",
     "output_type": "stream",
     "text": [
      "6\n"
     ]
    }
   ],
   "source": [
    "from core.utils import Tibanna\n",
    "from dcicutils import ff_utils\n",
    "from core.utils import run_workflow\n",
    "from datetime import datetime\n",
    "import time\n",
    "\n",
    "env = 'data'\n",
    "tibanna = Tibanna(env=env)\n",
    "ff = ff_utils.fdn_connection(key={\"default\" : tibanna.ff_keys})\n",
    "\n",
    "my_url = '/search/?experiments_in_set.experiment_type=CHIA-pet&experiments_in_set.experiment_type=TrAC-loop&type=ExperimentSetReplicate&limit=all'\n",
    "all_sets = ff_utils.search_metadata(my_url, ff_env=env)\n",
    "print len(all_sets)"
   ]
  },
  {
   "cell_type": "code",
   "execution_count": 30,
   "metadata": {},
   "outputs": [
    {
     "name": "stdout",
     "output_type": "stream",
     "text": [
      "cleaning completed process field 4DNESCQ7ZD21\n",
      "cleaning processed files field 4DNESCQ7ZD21\n",
      "cleaning processed files field 4DNEX2IA5IAW\n",
      "cleaning processed files field 4DNEXA8WT7GF\n",
      "\n",
      "\n",
      "\n",
      "\n",
      "\n",
      "\n"
     ]
    }
   ],
   "source": [
    "clean_fields = True\n",
    "unrelease_files = False\n",
    "\n",
    "for a_set in all_sets:\n",
    "    if a_set.get('completed_processes'):\n",
    "        print \"cleaning completed process field\", a_set['accession']\n",
    "        if clean_fields:\n",
    "            ff_utils.delete_field(a_set['accession'], 'completed_processes', ff_env=env)\n",
    "        \n",
    "    set_pc = a_set.get('processed_files')\n",
    "    \n",
    "    if set_pc:\n",
    "        for a_set_pc in set_pc:\n",
    "            if a_set_pc['status'] not in ['uploaded', 'in review by lab']:\n",
    "                print 'file with wrong status', a_set_pc['accession']\n",
    "                if unrelease_files:\n",
    "                    ff_utils.patch_metadata({'status':'uploaded'}, a_set_pc['accesssion'], ff_env = env)\n",
    "        \n",
    "        print \"cleaning processed files field\", a_set['accession']\n",
    "        if clean_fields:\n",
    "            ff_utils.delete_field(a_set['accession'], 'processed_files', ff_env=env)\n",
    "        \n",
    "    for exp in a_set['experiments_in_set']:\n",
    "        \n",
    "        exp_pc = exp.get('processed_files')\n",
    "    \n",
    "        if exp_pc:\n",
    "            for a_exp_pc in exp_pc:\n",
    "                if a_exp_pc['status'] not in ['uploaded', 'in review by lab']:\n",
    "                    print 'file with wrong status', a_exp_pc['accession']\n",
    "                    if unrelease_files:\n",
    "                        ff_utils.patch_metadata({'status':'uploaded'}, a_exp_pc['accesssion'], ff_env = env)\n",
    "\n",
    "            print \"cleaning processed files field\", exp['accession']\n",
    "            if clean_fields:\n",
    "                ff_utils.delete_field(exp['accession'], 'processed_files', ff_env=env)\n",
    "    print\n",
    "        "
   ]
  },
  {
   "cell_type": "code",
   "execution_count": 9,
   "metadata": {},
   "outputs": [
    {
     "name": "stdout",
     "output_type": "stream",
     "text": [
      "c6159041-a5d2-4a7c-af80-a0ff973ce149\n",
      "4DNFICLCWWLH\n"
     ]
    }
   ],
   "source": [
    "print exp\n",
    "print a_file['accession']"
   ]
  },
  {
   "cell_type": "code",
   "execution_count": null,
   "metadata": {
    "collapsed": true
   },
   "outputs": [],
   "source": []
  }
 ],
 "metadata": {
  "anaconda-cloud": {},
  "kernelspec": {
   "display_name": "Python 2",
   "language": "python",
   "name": "python2"
  },
  "language_info": {
   "codemirror_mode": {
    "name": "ipython",
    "version": 2
   },
   "file_extension": ".py",
   "mimetype": "text/x-python",
   "name": "python",
   "nbconvert_exporter": "python",
   "pygments_lexer": "ipython2",
   "version": "2.7.10"
  }
 },
 "nbformat": 4,
 "nbformat_minor": 2
}
