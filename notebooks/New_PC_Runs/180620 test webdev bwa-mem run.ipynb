{
 "cells": [
  {
   "cell_type": "code",
   "execution_count": 8,
   "metadata": {
    "collapsed": true
   },
   "outputs": [],
   "source": [
    "from dcicutils import ff_utils\n",
    "from core.wfr2 import *\n",
    "from core.wfr_settings import *\n",
    "\n",
    "my_env = 'fourfront-webdev'\n",
    "my_env = 'data'\n",
    "my_auth = ff_utils.get_authentication_with_server({}, ff_env = my_env)\n",
    "\n",
    "# different types of exps use different steps at the last step(3).\n",
    "recipe = [\n",
    "    [['in%20situ%20Hi-C'], 'hi-c-processing-pairs'],\n",
    "    [['in%20situ%20Hi-C', 'dilution%20Hi-C'], 'hi-c-processing-pairs'],\n",
    "    [['micro-C',          'DNase%20Hi-C'],    'hi-c-processing-pairs-nore'],\n",
    "    [['capture%20Hi-C',   'PLAC-seq'],        'hi-c-processing-pairs-nonorm'],\n",
    "    [['CHIA-pet',         'TrAC-loop'],       'hi-c-processing-pairs-nore-nonorm']\n",
    "]"
   ]
  },
  {
   "cell_type": "code",
   "execution_count": 9,
   "metadata": {},
   "outputs": [
    {
     "name": "stdout",
     "output_type": "stream",
     "text": [
      "('1 total number of sets', '0 sets completed')\n",
      "\n",
      "1 4DNES2M5JIGV DpnII human 380\n",
      "{u'status': u'RUNNING', u'startDate': u'2018-06-25 20:08:38.141000+00:00', u'name': u'bwa-mem_4DNFIO9OHYUV_4DNFIM62WI62c998fbab-59db-4478-8eb1-b74356d69284', u'ResponseMetadata': {u'RetryAttempts': 0, u'HTTPStatusCode': 200, u'HTTPHeaders': {u'x-amzn-requestid': u'8d0fc53c-78b3-11e8-af38-919a88fb13ab', u'content-length': u'2256', u'content-type': u'application/x-amz-json-1.0'}, u'RequestId': u'8d0fc53c-78b3-11e8-af38-919a88fb13ab'}, u'executionArn': u'arn:aws:states:us-east-1:643366669028:execution:tibanna_pony:bwa-mem_4DNFIO9OHYUV_4DNFIM62WI62c998fbab-59db-4478-8eb1-b74356d69284', u'stateMachineArn': u'arn:aws:states:us-east-1:643366669028:stateMachine:tibanna_pony', u'input': u'{\"app_name\": \"bwa-mem\", \"_tibanna\": {\"run_type\": \"bwa-mem\", \"run_id\": \"4DNFIO9OHYUV_4DNFIM62WI62\", \"url\": \"https://console.aws.amazon.com/states/home?region=us-east-1#/executions/details/arn:aws:states:us-east-1:643366669028:execution:tibanna_pony:bwa-mem_4DNFIO9OHYUV_4DNFIM62WI62c998fbab-59db-4478-8eb1-b74356d69284\", \"env\": \"data\", \"run_name\": \"bwa-mem_4DNFIO9OHYUV_4DNFIM62WI62c998fbab-59db-4478-8eb1-b74356d69284\"}, \"env_name\": \"fourfront-webprod\", \"output_bucket\": \"elasticbeanstalk-fourfront-webprod-wfoutput\", \"tag\": \"0.2.5\", \"parameters\": {\"nThreads\": 16}, \"config\": {\"ebs_type\": \"io1\", \"key_name\": \"4dn-encode\", \"json_bucket\": \"4dn-aws-pipeline-run-json\", \"shutdown_min\": 30, \"s3_access_arn\": \"arn:aws:iam::643366669028:instance-profile/S3_access\", \"copy_to_s3\": true, \"ebs_iops\": 500, \"launch_instance\": true, \"password\": \"dragonfly\", \"log_bucket\": \"tibanna-output\"}, \"custom_pf_fields\": {\"out_bam\": {\"file_type\": \"intermediate file\", \"genome_assembly\": \"GRCh38\", \"contributing_labs\": [\"/labs/job-dekker-lab/\"], \"description\": \"This is an intermediate file in the HiC processing pipeline\"}}, \"workflow_uuid\": \"3feedadc-50f9-4bb4-919b-09a8b731d0cc\", \"input_files\": [{\"workflow_argument_name\": \"fastq2\", \"bucket_name\": \"elasticbeanstalk-fourfront-webprod-files\", \"uuid\": \"8ff3cb1b-30c5-462e-a234-246f30747c1d\", \"object_key\": \"4DNFIM62WI62.fastq.gz\"}, {\"workflow_argument_name\": \"fastq1\", \"bucket_name\": \"elasticbeanstalk-fourfront-webprod-files\", \"uuid\": \"cb2dbe53-2f7a-4542-9843-2d8265805733\", \"object_key\": \"4DNFIO9OHYUV.fastq.gz\"}, {\"workflow_argument_name\": \"bwa_index\", \"bucket_name\": \"elasticbeanstalk-fourfront-webprod-files\", \"uuid\": \"1f53df95-4cf3-41cc-971d-81bb16c486dd\", \"object_key\": \"4DNFIZQZ39L9.bwaIndex.tgz\"}]}'}\n",
      "0\n",
      "[]\n"
     ]
    }
   ],
   "source": [
    "#Choose the recipe element to run the pipeline on\n",
    "exp_type, step3 = recipe[0]\n",
    "\n",
    "#Choose the type of operations you want\n",
    "add_pc = False    #add processed files to 'other processed files\n",
    "add_tag = False   #add the completed process tag if done with all steps\n",
    "add_wfr = True   #start missing wfrs\n",
    "\n",
    "set_url = 'experiment-set-replicates/4DNES2M5JIGV/'\n",
    "#print set_url\n",
    "\n",
    "run_sets = [ff_utils.get_metadata(set_url , key=my_auth)]\n",
    "counter = 0\n",
    "completed = 0\n",
    "completed_acc = []\n",
    "\n",
    "all_sets = len(run_sets)\n",
    "#run_sets = [i for i in run_sets if \"HiC_Pipeline_0.2.5\"  not in i.get('completed_processes', [])]\n",
    "print(str(all_sets)+' total number of sets',\n",
    "      str(all_sets-len(run_sets))+ ' sets completed')\n",
    "\n",
    "for a_set in run_sets: \n",
    "    print\n",
    "    counter += 1\n",
    "    fastqpairs, organism, enzyme, bwa_ref, chrsize_ref, enz_ref, f_size, lab = find_pairs(a_set, my_env)\n",
    "    # skip based on these conditions\n",
    "    if not bwa_ref or not chrsize_ref:\n",
    "        print counter, a_set['accession'], organism, enzyme, 'skipping set with not chrsize/bwa index'\n",
    "        continue\n",
    "    if 'nonorm' not in step3:\n",
    "        if f_size < 15:\n",
    "            print counter, a_set['accession'], 'skipping small file size', str(f_size) \n",
    "            continue\n",
    "    if 'nore' not in step3:\n",
    "        if not enz_ref:\n",
    "            print counter, a_set['accession'], 'skipping not ready NZ', organism, enzyme\n",
    "            continue\n",
    "    print counter, a_set['accession'],enzyme, organism,f_size\n",
    "    part3 = 'done'\n",
    "    set_pairs = []        \n",
    "    # cycle through the experiments, skip the ones without usable files\n",
    "    for exp in fastqpairs.keys():\n",
    "        if not fastqpairs.get(exp):\n",
    "            print(exp, 'does not have any fastq pairs')\n",
    "            continue\n",
    "        # Check Part 1 and See if all are okay\n",
    "        exp_bams = []\n",
    "        part1 = 'done'\n",
    "        part2 = 'done'\n",
    "        \n",
    "        for pair in fastqpairs[exp]:\n",
    "            #############\n",
    "            step1_result = get_wfr_out(pair[0], 'bwa-mem 0.2.5', my_auth)\n",
    "            \n",
    "            ##run no matter what##\n",
    "            if add_wfr:\n",
    "                    # RUN PART 1\n",
    "                    inp_f = {'fastq1':pair[0], 'fastq2':pair[1], 'bwa_index':bwa_ref}\n",
    "                    name_tag = pair[0].split('/')[2]+'_'+pair[1].split('/')[2]\n",
    "                    run_missing_wfr2(step_settings('bwa-mem', organism, lab), inp_f, name_tag,my_auth, my_env)\n",
    "                    break\n",
    "        break\n",
    "print completed\n",
    "print completed_acc"
   ]
  },
  {
   "cell_type": "code",
   "execution_count": null,
   "metadata": {
    "collapsed": true
   },
   "outputs": [],
   "source": []
  }
 ],
 "metadata": {
  "anaconda-cloud": {},
  "kernelspec": {
   "display_name": "Python 2",
   "language": "python",
   "name": "python2"
  },
  "language_info": {
   "codemirror_mode": {
    "name": "ipython",
    "version": 2
   },
   "file_extension": ".py",
   "mimetype": "text/x-python",
   "name": "python",
   "nbconvert_exporter": "python",
   "pygments_lexer": "ipython2",
   "version": "2.7.10"
  }
 },
 "nbformat": 4,
 "nbformat_minor": 2
}
