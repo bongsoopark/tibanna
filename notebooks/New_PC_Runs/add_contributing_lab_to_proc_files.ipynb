{
 "cells": [
  {
   "cell_type": "code",
   "execution_count": 10,
   "metadata": {},
   "outputs": [
    {
     "name": "stdout",
     "output_type": "stream",
     "text": [
      "3098\n"
     ]
    }
   ],
   "source": [
    "from core.utils import Tibanna\n",
    "from dcicutils import ff_utils\n",
    "from core.utils import run_workflow\n",
    "from datetime import datetime\n",
    "import time\n",
    "\n",
    "env = 'data'\n",
    "tibanna = Tibanna(env=env)\n",
    "ff = ff_utils.fdn_connection(key={\"default\" : tibanna.ff_keys})\n",
    "\n",
    "my_url = '/search/?type=FileProcessed&limit=all'\n",
    "all_files = ff_utils.search_metadata(my_url, ff_env=env)\n",
    "print len(all_files)"
   ]
  },
  {
   "cell_type": "code",
   "execution_count": 11,
   "metadata": {},
   "outputs": [
    {
     "name": "stdout",
     "output_type": "stream",
     "text": [
      "50\n",
      "100\n",
      "150\n",
      "200\n",
      "250\n",
      "300\n",
      "350\n",
      "400\n",
      "450\n",
      "500\n",
      "550\n",
      "600\n",
      "650\n",
      "700\n",
      "750\n",
      "800\n",
      "850\n",
      "900\n",
      "950\n",
      "1000\n",
      "1050\n",
      "1100\n",
      "1150\n",
      "1200\n",
      "1250\n",
      "1300\n",
      "1350\n",
      "1400\n",
      "1450\n",
      "1500\n",
      "1550\n",
      "1600\n",
      "1650\n",
      "1700\n",
      "1750\n",
      "1800\n",
      "1850\n",
      "1900\n",
      "1950\n",
      "2000\n",
      "2050\n",
      "2100\n",
      "2150\n",
      "2200\n",
      "2250\n",
      "2300\n",
      "2350\n",
      "2400\n",
      "no source: 694\n",
      "has contr: 3\n",
      "patched: 2401\n"
     ]
    }
   ],
   "source": [
    "no_source = 0\n",
    "has_contr = 0\n",
    "patched = 0\n",
    "for a_file in all_files:\n",
    "    if a_file.get('contributing_labs'):\n",
    "        has_contr += 1\n",
    "        continue\n",
    "    exps = a_file.get('source_experiments')\n",
    "    if not exps:\n",
    "        no_source += 1\n",
    "        continue\n",
    "    exp = exps[0]\n",
    "    \n",
    "    source_lab = ff_utils.get_metadata(exp, ff_env=env)['lab']['@id']\n",
    "    patch_data = {'contributing_labs':[source_lab,]}\n",
    "    patched += 1\n",
    "    ff_utils.patch_metadata(patch_data, obj_id=a_file['accession'], ff_env=env)\n",
    "    \n",
    "    if patched % 50 == 0:\n",
    "        print patched\n",
    "\n",
    "print 'no source:', no_source\n",
    "print 'has contr:', has_contr\n",
    "print 'patched:', patched\n",
    "    \n"
   ]
  },
  {
   "cell_type": "code",
   "execution_count": 9,
   "metadata": {},
   "outputs": [
    {
     "name": "stdout",
     "output_type": "stream",
     "text": [
      "c6159041-a5d2-4a7c-af80-a0ff973ce149\n",
      "4DNFICLCWWLH\n"
     ]
    }
   ],
   "source": [
    "print exp\n",
    "print a_file['accession']"
   ]
  },
  {
   "cell_type": "code",
   "execution_count": null,
   "metadata": {
    "collapsed": true
   },
   "outputs": [],
   "source": []
  }
 ],
 "metadata": {
  "anaconda-cloud": {},
  "kernelspec": {
   "display_name": "Python 2",
   "language": "python",
   "name": "python2"
  },
  "language_info": {
   "codemirror_mode": {
    "name": "ipython",
    "version": 2
   },
   "file_extension": ".py",
   "mimetype": "text/x-python",
   "name": "python",
   "nbconvert_exporter": "python",
   "pygments_lexer": "ipython2",
   "version": "2.7.10"
  }
 },
 "nbformat": 4,
 "nbformat_minor": 2
}
