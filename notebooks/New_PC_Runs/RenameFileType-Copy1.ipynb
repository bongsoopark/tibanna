{
 "cells": [
  {
   "cell_type": "code",
   "execution_count": 13,
   "metadata": {},
   "outputs": [
    {
     "name": "stdout",
     "output_type": "stream",
     "text": [
      "824\n"
     ]
    }
   ],
   "source": [
    "from core.utils import Tibanna\n",
    "from dcicutils import ff_utils\n",
    "from core.utils import run_workflow\n",
    "from datetime import datetime\n",
    "import time\n",
    "\n",
    "env = 'data'\n",
    "tibanna = Tibanna(env=env)\n",
    "ff = ff_utils.fdn_connection(key={\"default\" : tibanna.ff_keys})\n",
    "\n",
    "intr = \"intermediate file\"\n",
    "\n",
    "Converter = {\n",
    "    \"bwa-mem 0.2.5\":{\"bam\":intr},\n",
    "    \"hi-c-processing-bam 0.2.5\":{\"bam\": \"alignment\",\n",
    "                                 \"pairs\": 'contact list-replicate'},\n",
    "    \"hi-c-processing-pairs 0.2.5\":{\"normvector_juicerformat\": \"juicebox norm vector\",\n",
    "                                   \"hic\": \"contact matrix\",\n",
    "                                   \"mcool\":\"contact matrix\",\n",
    "                                   \"pairs\":\"contact list-combined\"},\n",
    "    \"hi-c-processing-pairs-nore 0.2.5\":{\"normvector_juicerformat\": \"juicebox norm vector\",\n",
    "                                   \"hic\": \"contact matrix\",\n",
    "                                   \"mcool\":\"contact matrix\",\n",
    "                                   \"pairs\":\"contact list-combined\"},\n",
    "    \"hi-c-processing-pairs-nonorm 0.2.5\":{\n",
    "                                   \"hic\": \"contact matrix\",\n",
    "                                   \"mcool\":\"contact matrix\",\n",
    "                                   \"pairs\":\"contact list-combined\"},\n",
    "    \"hi-c-processing-pairs-nore-nonorm 0.2.5\":{\n",
    "                                   \"hic\": \"contact matrix\",\n",
    "                                   \"mcool\":\"contact matrix\",\n",
    "                                   \"pairs\":\"contact list-combined\"}\n",
    "    \n",
    "}\n",
    "\n",
    "\n",
    "\n",
    "my_url = '/search/?file_type=No%20value&type=FileProcessed&limit=all'\n",
    "all_files = ff_utils.search_metadata(my_url, ff_env=env)\n",
    "print len(all_files)"
   ]
  },
  {
   "cell_type": "code",
   "execution_count": 12,
   "metadata": {},
   "outputs": [
    {
     "name": "stdout",
     "output_type": "stream",
     "text": [
      "['hi-c-processing-pairs-nonorm 0.2.5', 'hi-c-processing-pairs 0.2.5', 'hi-c-processing-pairs-nore 0.2.5', 'hi-c-processing-bam 0.2.5', 'bwa-mem 0.2.5', 'hi-c-processing-pairs-nore-nonorm 0.2.5']\n",
      "30 29\n",
      "60 59\n",
      "90 89\n",
      "120 119\n",
      "150 149\n",
      "180 179\n",
      "210 209\n",
      "240 239\n",
      "270 269\n",
      "300 299\n",
      "330 329\n",
      "360 345\n",
      "390 345\n",
      "420 345\n",
      "450 345\n",
      "480 345\n",
      "510 345\n",
      "540 348\n",
      "570 378\n",
      "600 395\n",
      "630 395\n",
      "660 395\n",
      "690 395\n",
      "720 395\n",
      "750 395\n",
      "780 395\n",
      "810 395\n",
      "840 395\n",
      "870 395\n",
      "900 395\n",
      "930 395\n",
      "960 395\n",
      "990 395\n",
      "1020 395\n",
      "1050 395\n",
      "1080 395\n",
      "1110 395\n",
      "1140 395\n",
      "1170 395\n",
      "1200 395\n",
      "395\n"
     ]
    }
   ],
   "source": [
    "my_wfrs = Converter.keys()\n",
    "print my_wfrs\n",
    "\n",
    "out_n = \"This is an output file of the Hi-C processing pipeline\"\n",
    "int_n = \"This is an intermediate file in the HiC processing pipeline\"\n",
    "\n",
    "success = 0\n",
    "patch_problem = 0\n",
    "deleted = 0\n",
    "count = 0\n",
    "\n",
    "# workflow_run_outputs.workflow.title\n",
    "\n",
    "\n",
    "for a_file in all_files:  \n",
    "    count += 1\n",
    "    my_wfr = a_file.get('workflow_run_outputs')\n",
    "    \n",
    "    if count % 30 == 0:\n",
    "        print count,success\n",
    "        \n",
    "    if not my_wfr:\n",
    "        continue\n",
    "        \n",
    "    wfr_title = my_wfr[0]['display_title'].split(' run')[0]\n",
    "    \n",
    "    if wfr_title in my_wfrs: \n",
    "        form = a_file['file_format']\n",
    "        file_id = a_file['uuid']\n",
    "        f_type =  Converter[wfr_title][form]\n",
    "        desc = \"\"\n",
    "        if f_type == \"intermediate file\":\n",
    "            desc = int_n\n",
    "        else:\n",
    "            desc = out_n\n",
    "        patch_data = {\"description\": desc, 'file_type': f_type}\n",
    "        ff_utils.patch_metadata(patch_data, obj_id=file_id , ff_env = env)\n",
    "        success += 1\n",
    "           \n",
    "print success\n",
    "\n"
   ]
  },
  {
   "cell_type": "code",
   "execution_count": null,
   "metadata": {
    "collapsed": true
   },
   "outputs": [],
   "source": []
  },
  {
   "cell_type": "code",
   "execution_count": null,
   "metadata": {
    "collapsed": true
   },
   "outputs": [],
   "source": []
  }
 ],
 "metadata": {
  "anaconda-cloud": {},
  "kernelspec": {
   "display_name": "Python 2",
   "language": "python",
   "name": "python2"
  },
  "language_info": {
   "codemirror_mode": {
    "name": "ipython",
    "version": 2
   },
   "file_extension": ".py",
   "mimetype": "text/x-python",
   "name": "python",
   "nbconvert_exporter": "python",
   "pygments_lexer": "ipython2",
   "version": "2.7.10"
  }
 },
 "nbformat": 4,
 "nbformat_minor": 2
}
