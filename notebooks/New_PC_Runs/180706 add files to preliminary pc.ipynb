{
 "cells": [
  {
   "cell_type": "code",
   "execution_count": 4,
   "metadata": {},
   "outputs": [
    {
     "data": {
      "text/plain": [
       "{u'@graph': [{u'@id': u'/experiments-seq/4DNEX21WVKWL/',\n",
       "   u'@type': [u'ExperimentSeq', u'Experiment', u'Item'],\n",
       "   u'accession': u'4DNEX21WVKWL',\n",
       "   u'aliases': [u'zhong-lab:Experiment_HFFc6_MARGI_b1t2'],\n",
       "   u'average_fragment_size': 345,\n",
       "   u'award': u'/awards/1U01CA200147-01/',\n",
       "   u'biosample': u'/biosamples/4DNBS9AT48VG/',\n",
       "   u'biosample_quantity': 3000000.0,\n",
       "   u'biosample_quantity_units': u'cells',\n",
       "   u'contributing_labs': [u'/labs/feng-yue-lab/'],\n",
       "   u'date_created': u'2018-04-19T18:54:46.334766+00:00',\n",
       "   u'description': u'MARGI of HFFc6 Replicate 2',\n",
       "   u'display_title': u'MARGI on HFFc6 (Tier 1) - 4DNEX21WVKWL',\n",
       "   u'experiment_categorizer': {u'field': u'Default', u'value': None},\n",
       "   u'experiment_sets': [u'/experiment-set-replicates/4DNESJC437VS/'],\n",
       "   u'experiment_summary': u'MARGI on HFFc6 (Tier 1)',\n",
       "   u'experiment_type': u'MARGI',\n",
       "   u'external_references': [],\n",
       "   u'files': [u'/files-fastq/4DNFI6CUSJVL/', u'/files-fastq/4DNFIA6RMVMW/'],\n",
       "   u'fragment_size_range': u'250-1000',\n",
       "   u'fragment_size_selection_method': u'gel',\n",
       "   u'fragmentation_method': u'see protocol document',\n",
       "   u'lab': u'/labs/sheng-zhong-lab/',\n",
       "   u'last_modified': {u'date_modified': u'2018-07-06T14:44:44.476529+00:00',\n",
       "    u'modified_by': u'/users/986b362f-4eb6-4a9c-8173-3ab267307e3a/'},\n",
       "   u'library_preparation_date': u'2018-03-29',\n",
       "   u'link_id': u'~experiments-seq~4DNEX21WVKWL~',\n",
       "   u'other_processed_files': [{u'files': [u'/files-processed/4DNFIXMYQ168/'],\n",
       "     u'title': u'Preliminary Alignment Files',\n",
       "     u'type': u'preliminary'}],\n",
       "   u'principals_allowed': {u'audit': [u'system.Everyone'],\n",
       "    u'edit': [u'group.admin'],\n",
       "    u'view': [u'group.admin',\n",
       "     u'group.read-only-admin',\n",
       "     u'lab.3452dfa5-ee8b-4dbc-8068-00cadde268b9',\n",
       "     u'lab.6240db37-c902-4f2a-b8eb-44a3e6ccfe11',\n",
       "     u'remoteuser.EMBED',\n",
       "     u'remoteuser.INDEXER',\n",
       "     u'viewing_group.4DN']},\n",
       "   u'project_release': u'2018-07-06',\n",
       "   u'protocol': u'/protocols/fa6738b1-ffc5-4fe6-b960-a1c3bbb26c2d/',\n",
       "   u'publications_of_exp': [],\n",
       "   u'schema_version': u'2',\n",
       "   u'sop_mapping': {u'has_sop': u'No'},\n",
       "   u'status': u'released to project',\n",
       "   u'submitted_by': u'/users/df984979-fc20-4ca3-8bf1-dccd79ce06d5/',\n",
       "   u'uuid': u'9bba36e4-069b-4cc2-b8e7-b121508803c1'}],\n",
       " u'@type': [u'result'],\n",
       " u'status': u'success'}"
      ]
     },
     "execution_count": 4,
     "metadata": {},
     "output_type": "execute_result"
    }
   ],
   "source": [
    "from dcicutils import ff_utils\n",
    "import sys\n",
    "\n",
    "env = 'data'\n",
    "my_auth = ff_utils.get_authentication_with_server({}, ff_env = env)\n",
    "\n",
    "item_id = '4DNEX21WVKWL'\n",
    "list_pc = ['4DNFIXMYQ168']\n",
    "\n",
    "pc_set_title = \"Preliminary Alignment Files\"\n",
    "# get the existing data in other pc\n",
    "patch_data = ff_utils.get_metadata(item_id, ff_env=env).get('other_processed_files')\n",
    "if patch_data:\n",
    "    # does the same title exist\n",
    "    if pc_set_title in [i['title'] for i in patch_data]:\n",
    "        print(item_id, 'already has preliminary results')\n",
    "        sys.exit()\n",
    "    else:\n",
    "        pass\n",
    "else:\n",
    "    patch_data = []\n",
    "\n",
    "new_data = {'title': pc_set_title,\n",
    "            'type': 'preliminary',\n",
    "            'files': list_pc}\n",
    "patch_data.append(new_data)\n",
    "patch = {'other_processed_files': patch_data}\n",
    "ff_utils.patch_metadata(patch, obj_id=item_id, key=my_auth)\n",
    "\n",
    "\n"
   ]
  },
  {
   "cell_type": "code",
   "execution_count": null,
   "metadata": {
    "collapsed": true
   },
   "outputs": [],
   "source": []
  }
 ],
 "metadata": {
  "anaconda-cloud": {},
  "kernelspec": {
   "display_name": "Python 2",
   "language": "python",
   "name": "python2"
  },
  "language_info": {
   "codemirror_mode": {
    "name": "ipython",
    "version": 2
   },
   "file_extension": ".py",
   "mimetype": "text/x-python",
   "name": "python",
   "nbconvert_exporter": "python",
   "pygments_lexer": "ipython2",
   "version": "2.7.10"
  }
 },
 "nbformat": 4,
 "nbformat_minor": 2
}
