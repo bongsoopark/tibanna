{
 "cells": [
  {
   "cell_type": "code",
   "execution_count": 14,
   "metadata": {},
   "outputs": [
    {
     "name": "stdout",
     "output_type": "stream",
     "text": [
      "851\n"
     ]
    }
   ],
   "source": [
    "from core.utils import Tibanna\n",
    "from dcicutils import ff_utils\n",
    "from core.utils import run_workflow\n",
    "from datetime import datetime\n",
    "import time\n",
    "\n",
    "env = 'data'\n",
    "tibanna = Tibanna(env=env)\n",
    "ff = ff_utils.fdn_connection(key={\"default\" : tibanna.ff_keys})\n",
    "\n",
    "intr = \"intermediate file\"\n",
    "\n",
    "Converter = {\n",
    "    \"bwa-mem 0.2.5\":{\"bam\":intr},\n",
    "    \"hi-c-processing-bam 0.2.5\":{\"bam\": \"alignment\",\n",
    "                                 \"pairs\": 'contact list-replicate'},\n",
    "    \"hi-c-processing-pairs 0.2.5\":{\"normvector_juicerformat\": \"juicebox norm vector\",\n",
    "                                   \"hic\": \"contact matrix\",\n",
    "                                   \"mcool\":\"contact matrix\",\n",
    "                                   \"pairs\":\"contact list-combined\"},\n",
    "    \"hi-c-processing-pairs-nore 0.2.5\":{\"normvector_juicerformat\": \"juicebox norm vector\",\n",
    "                                   \"hic\": \"contact matrix\",\n",
    "                                   \"mcool\":\"contact matrix\",\n",
    "                                   \"pairs\":\"contact list-combined\"},\n",
    "    \"hi-c-processing-pairs-nonorm 0.2.5\":{\n",
    "                                   \"hic\": \"contact matrix\",\n",
    "                                   \"mcool\":\"contact matrix\",\n",
    "                                   \"pairs\":\"contact list-combined\"},\n",
    "    \"hi-c-processing-pairs-nore-nonorm 0.2.5\":{\n",
    "                                   \"hic\": \"contact matrix\",\n",
    "                                   \"mcool\":\"contact matrix\",\n",
    "                                   \"pairs\":\"contact list-combined\"}\n",
    "    \n",
    "}\n",
    "\n",
    "\n",
    "\n",
    "my_url = '/search/?file_type=No%20value&type=FileProcessed&limit=all'\n",
    "all_files = ff_utils.search_metadata(my_url, ff_env=env)\n",
    "print len(all_files)"
   ]
  },
  {
   "cell_type": "code",
   "execution_count": 15,
   "metadata": {},
   "outputs": [
    {
     "name": "stdout",
     "output_type": "stream",
     "text": [
      "['hi-c-processing-pairs-nonorm 0.2.5', 'hi-c-processing-pairs 0.2.5', 'hi-c-processing-pairs-nore 0.2.5', 'hi-c-processing-bam 0.2.5', 'bwa-mem 0.2.5', 'hi-c-processing-pairs-nore-nonorm 0.2.5']\n",
      "30 27\n",
      "60 27\n",
      "90 27\n",
      "120 27\n",
      "150 27\n",
      "180 27\n",
      "210 27\n",
      "240 27\n",
      "270 27\n",
      "300 27\n",
      "330 27\n",
      "360 27\n",
      "390 27\n",
      "420 27\n",
      "450 27\n",
      "480 27\n",
      "510 27\n",
      "540 27\n",
      "570 27\n",
      "600 27\n",
      "630 27\n",
      "660 27\n",
      "690 27\n",
      "720 27\n",
      "750 27\n",
      "780 27\n",
      "810 27\n",
      "840 27\n",
      "27\n"
     ]
    }
   ],
   "source": [
    "my_wfrs = Converter.keys()\n",
    "print my_wfrs\n",
    "\n",
    "out_n = \"This is an output file of the Hi-C processing pipeline\"\n",
    "int_n = \"This is an intermediate file in the HiC processing pipeline\"\n",
    "\n",
    "success = 0\n",
    "patch_problem = 0\n",
    "deleted = 0\n",
    "count = 0\n",
    "\n",
    "# workflow_run_outputs.workflow.title\n",
    "\n",
    "\n",
    "for a_file in all_files:  \n",
    "    count += 1\n",
    "    my_wfr = a_file.get('workflow_run_outputs')\n",
    "    \n",
    "    if count % 30 == 0:\n",
    "        print count,success\n",
    "        \n",
    "    if not my_wfr:\n",
    "        continue\n",
    "        \n",
    "    wfr_title = my_wfr[0]['display_title'].split(' run')[0]\n",
    "    \n",
    "    if wfr_title in my_wfrs: \n",
    "        form = a_file['file_format']\n",
    "        file_id = a_file['uuid']\n",
    "        f_type =  Converter[wfr_title][form]\n",
    "        desc = \"\"\n",
    "        if f_type == \"intermediate file\":\n",
    "            desc = int_n\n",
    "        else:\n",
    "            desc = out_n\n",
    "        patch_data = {\"description\": desc, 'file_type': f_type}\n",
    "        ff_utils.patch_metadata(patch_data, obj_id=file_id , ff_env = env)\n",
    "        success += 1\n",
    "           \n",
    "print success\n",
    "\n"
   ]
  },
  {
   "cell_type": "code",
   "execution_count": null,
   "metadata": {
    "collapsed": true
   },
   "outputs": [],
   "source": []
  },
  {
   "cell_type": "code",
   "execution_count": null,
   "metadata": {
    "collapsed": true
   },
   "outputs": [],
   "source": []
  }
 ],
 "metadata": {
  "anaconda-cloud": {},
  "kernelspec": {
   "display_name": "Python 2",
   "language": "python",
   "name": "python2"
  },
  "language_info": {
   "codemirror_mode": {
    "name": "ipython",
    "version": 2
   },
   "file_extension": ".py",
   "mimetype": "text/x-python",
   "name": "python",
   "nbconvert_exporter": "python",
   "pygments_lexer": "ipython2",
   "version": "2.7.10"
  }
 },
 "nbformat": 4,
 "nbformat_minor": 2
}
