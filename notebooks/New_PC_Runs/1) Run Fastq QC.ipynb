{
 "cells": [
  {
   "cell_type": "code",
   "execution_count": 3,
   "metadata": {
    "collapsed": true
   },
   "outputs": [],
   "source": [
    "from dcicutils import ff_utils\n",
    "from core.utils import run_workflow\n",
    "from core.wfr2 import *\n",
    "from core.wfr_settings import *\n",
    "\n",
    "my_env = 'data'\n",
    "my_auth = ff_utils.get_authentication_with_server({}, ff_env = my_env)"
   ]
  },
  {
   "cell_type": "code",
   "execution_count": 4,
   "metadata": {
    "scrolled": false
   },
   "outputs": [
    {
     "name": "stdout",
     "output_type": "stream",
     "text": [
      "Do you wanna run fastqc if missing? (fq/none)\n",
      "0\n",
      "okay, not okay, running\n",
      "(0, 0, 0)\n"
     ]
    }
   ],
   "source": [
    "import time\n",
    "\n",
    "# for a given experiment set and some parameters like instrument\n",
    "# print set of files and their partA hic workflow status\n",
    "# if there are one that are running report the number of running cases\n",
    "# if there are file pairs that don't have a corresponding part A, report them separately\n",
    "\n",
    "run_fastqc = raw_input(\"Do you wanna run fastqc if missing? (fq/none)\")\n",
    "\n",
    "# url for hic exps\n",
    "fastq_url = \"search/?type=FileFastq&quality_metric.uuid=No+value\" + \\\n",
    "            \"&status=released&status=released%20to%20project&status=uploaded\" + \\\n",
    "            \"&limit=all\" + \\\n",
    "            \"&q=date_created%3A%3E%3D2016-09-01\"\n",
    "\n",
    "fastq_files = ff_utils.search_metadata(fastq_url , key = my_auth)\n",
    "\n",
    "#if beyond run_time, assume failed\n",
    "run_time = 24\n",
    "\n",
    "counter = 0\n",
    "completed = 0\n",
    "print len(fastq_files)\n",
    "\n",
    "okay = 0\n",
    "non = 0\n",
    "running = 0\n",
    "for a_fastq in fastq_files:\n",
    "    file_id = a_fastq['accession']  \n",
    "    report = get_wfr_out(file_id, 'fastqc-0-11-4-1',  my_auth, md_qc = True, run=run_time)\n",
    "\n",
    "    if report['status'] == 'running':\n",
    "        running += 1\n",
    "        print(file_id, 'still running')\n",
    "        continue\n",
    "\n",
    "    if report['status'].startswith('no') or not report:\n",
    "        non += 1\n",
    "        if run_fastqc == 'fq':\n",
    "            print 'fastqc running for', a_fastq['accession']\n",
    "            inp_f = {'input_fastq':file_id}\n",
    "            run_missing_wfr(step_settings('fastqc-0-11-4-1', 'none', 'none'), inp_f, file_id, my_env, tag=\"\")\n",
    "        else:\n",
    "            print 'fastqc run missing for',file_id\n",
    "    else:\n",
    "        okay += 1\n",
    "\n",
    "        \n",
    "print(\"okay, not okay, running\")    \n",
    "print(okay, non, running)\n"
   ]
  },
  {
   "cell_type": "code",
   "execution_count": null,
   "metadata": {
    "collapsed": true
   },
   "outputs": [],
   "source": [
    "# Release fastq qc\n",
    "\n",
    "fastq_url = '/search/?status=released&status=released%20to%20project&status=archived&type=FileFastq&limit=all'\n",
    "fastq_files = ff_utils.search_metadata(fastq_url , ff_env=env)\n",
    "fastq_files = [i for i in fastq_files if i.get('quality_metric')]\n",
    "print len(fastq_files)\n",
    "success = 0\n",
    "patch_problem = 0\n",
    "\n",
    "patch_trigger = False\n",
    "counter1=0\n",
    "for fastq in fastq_files:\n",
    "    counter1 += 1\n",
    "    print counter1\n",
    "    \n",
    "    if counter1%100 == 0:\n",
    "        print counter1\n",
    "        \n",
    "    fastq_status = fastq['status']\n",
    "    if fastq_status in ['released', 'released to project', 'archived']:\n",
    "        qc_status = ff_utils.get_metadata(fastq['quality_metric']['uuid'],ff_env=env)['status']\n",
    "        if qc_status != fastq_status:\n",
    "            print('unmatched status', fastq['accession'])\n",
    "            patch_data = {\"status\": fastq_status}\n",
    "            \n",
    "            if patch_trigger:\n",
    "                try:\n",
    "                    ff_utils.patch_metadata(patch_data, obj_id=fastq['quality_metric'] ,ff_env=env)\n",
    "                    success += 1\n",
    "                    print success\n",
    "                except Exception as e:\n",
    "                    print e\n",
    "                    print\n",
    "                    patch_problem += 1\n",
    "print success\n",
    "print patch_problem\n",
    "\n"
   ]
  },
  {
   "cell_type": "code",
   "execution_count": null,
   "metadata": {
    "collapsed": true
   },
   "outputs": [],
   "source": []
  },
  {
   "cell_type": "code",
   "execution_count": null,
   "metadata": {
    "collapsed": true
   },
   "outputs": [],
   "source": []
  }
 ],
 "metadata": {
  "anaconda-cloud": {},
  "kernelspec": {
   "display_name": "Python 2",
   "language": "python",
   "name": "python2"
  },
  "language_info": {
   "codemirror_mode": {
    "name": "ipython",
    "version": 2
   },
   "file_extension": ".py",
   "mimetype": "text/x-python",
   "name": "python",
   "nbconvert_exporter": "python",
   "pygments_lexer": "ipython2",
   "version": "2.7.10"
  }
 },
 "nbformat": 4,
 "nbformat_minor": 2
}
