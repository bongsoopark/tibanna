{
 "cells": [
  {
   "cell_type": "code",
   "execution_count": 30,
   "metadata": {},
   "outputs": [
    {
     "name": "stdout",
     "output_type": "stream",
     "text": [
      "2974\n"
     ]
    }
   ],
   "source": [
    "from dcicutils import ff_utils\n",
    "my_env = 'data'\n",
    "my_auth = ff_utils.get_authentication_with_server({}, ff_env = my_env)\n",
    "\n",
    "url = 'search/?type=WorkflowRunAwsem&limit=all'\n",
    "#url = 'search/?type=WorkflowRunSbg&limit=all'\n",
    "\n",
    "all_runs = ff_utils.search_metadata(url, key=my_auth)\n",
    "print len(all_runs)"
   ]
  },
  {
   "cell_type": "code",
   "execution_count": 29,
   "metadata": {
    "scrolled": true
   },
   "outputs": [
    {
     "name": "stdout",
     "output_type": "stream",
     "text": [
      "d8a60edf-49e5-4c33-afab-9ec90d65fae4 in review by lab\n",
      "f1a60edf-49e5-4c33-afab-9ec90d65fab2 in review by lab\n",
      "0\n"
     ]
    }
   ],
   "source": [
    "needs_cleanup = 0\n",
    "\n",
    "for a_run in all_runs:\n",
    "\n",
    "    cleanup = False\n",
    "    if not a_run.get('input_files'):\n",
    "        print a_run['uuid'], a_run['status']\n",
    "        cleanup = True\n",
    "    else:\n",
    "        for an_input in a_run['input_files']:\n",
    "            if an_input['value']['status'] == 'deleted':\n",
    "                cleanup = True\n",
    "\n",
    "    if cleanup:\n",
    "        needs_cleanup += 1\n",
    "        #ff_utils.patch_metadata({\"status\":\"deleted\"}, obj_id=a_run['uuid'], key=my_auth)\n",
    "\n",
    "print needs_cleanup\n"
   ]
  },
  {
   "cell_type": "code",
   "execution_count": null,
   "metadata": {
    "collapsed": true
   },
   "outputs": [],
   "source": []
  }
 ],
 "metadata": {
  "kernelspec": {
   "display_name": "Python 2",
   "language": "python",
   "name": "python2"
  },
  "language_info": {
   "codemirror_mode": {
    "name": "ipython",
    "version": 2
   },
   "file_extension": ".py",
   "mimetype": "text/x-python",
   "name": "python",
   "nbconvert_exporter": "python",
   "pygments_lexer": "ipython2",
   "version": "2.7.10"
  }
 },
 "nbformat": 4,
 "nbformat_minor": 2
}
