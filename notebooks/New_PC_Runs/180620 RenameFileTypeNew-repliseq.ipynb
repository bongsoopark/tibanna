{
 "cells": [
  {
   "cell_type": "code",
   "execution_count": 2,
   "metadata": {},
   "outputs": [],
   "source": [
    "from core.utils import Tibanna\n",
    "from dcicutils import ff_utils\n",
    "from core.utils import run_workflow\n",
    "from datetime import datetime\n",
    "import time\n",
    "\n",
    "env = 'data'\n",
    "tibanna = Tibanna(env=env)\n",
    "ff = ff_utils.fdn_connection(key={\"default\" : tibanna.ff_keys})\n",
    "\n",
    "intr = \"intermediate file\"\n",
    "\n",
    "Converter = {\n",
    "    \"repliseq-parta 0.2.5\":{\"bam\": \"alignment\",\n",
    "                            \"bg\": 'counts'}\n",
    "\n",
    "}\n",
    "\n",
    "Converter_desc = {\n",
    "    \"repliseq-parta 0.2.5\":{\"bg\": 'read counts per 50kb bin, unfiltered, unnormalized'}\n",
    "\n",
    "}\n"
   ]
  },
  {
   "cell_type": "code",
   "execution_count": 7,
   "metadata": {},
   "outputs": [
    {
     "name": "stdout",
     "output_type": "stream",
     "text": [
      "['repliseq-parta 0.2.5']\n",
      "140\n",
      "0 0\n",
      "10 10\n",
      "20 20\n",
      "30 30\n",
      "40 40\n",
      "50 50\n",
      "60 60\n",
      "70 70\n",
      "80 80\n",
      "90 90\n",
      "100 100\n",
      "110 110\n",
      "120 120\n",
      "130 130\n",
      "140\n"
     ]
    }
   ],
   "source": [
    "my_wfrs = Converter.keys()\n",
    "print my_wfrs\n",
    "\n",
    "file_url = 'search/?type=FileProcessed&workflow_run_outputs.workflow.title=Repli-seq+data+processing+pipeline+for+alignment%2C+filtering+and+counting&limit=all'\n",
    "files = ff_utils.search_metadata(file_url , ff_env=env)\n",
    "\n",
    "print(len(files))\n",
    "out_n = \"This is an output file of the RepliSeq processing pipeline\"\n",
    "int_n = \"This is an intermediate file in the Repliseq processing pipeline\"\n",
    "\n",
    "success = 0\n",
    "patch_problem = 0\n",
    "deleted = 0\n",
    "count = 0\n",
    "\n",
    "# workflow_run_outputs.workflow.title\n",
    "\n",
    "\n",
    "for a_file in files:  \n",
    "    \n",
    "    my_wfr = a_file.get('workflow_run_outputs')\n",
    "    \n",
    "    if count % 10 == 0:\n",
    "        print count,success\n",
    "    count += 1\n",
    "    if not my_wfr:\n",
    "        continue\n",
    "        \n",
    "    wfr_title = my_wfr[0]['display_title'].split(' run')[0]\n",
    "    \n",
    "    if wfr_title in my_wfrs: \n",
    "        form = a_file['file_format']\n",
    "        file_id = a_file['uuid']\n",
    "        f_type =  Converter[wfr_title][form]\n",
    "        desc = Converter_desc[wfr_title].get(form)\n",
    "        if not desc:\n",
    "            if f_type == \"intermediate file\":\n",
    "                desc = int_n\n",
    "            else:\n",
    "                desc = out_n\n",
    "        patch_data = {\"description\": desc, 'file_type': f_type}\n",
    "        ff_utils.patch_metadata(patch_data, obj_id=file_id , ff_env = env)\n",
    "        success += 1\n",
    "           \n",
    "print success\n",
    "\n"
   ]
  },
  {
   "cell_type": "code",
   "execution_count": null,
   "metadata": {
    "collapsed": true
   },
   "outputs": [],
   "source": []
  },
  {
   "cell_type": "code",
   "execution_count": null,
   "metadata": {
    "collapsed": true
   },
   "outputs": [],
   "source": []
  }
 ],
 "metadata": {
  "anaconda-cloud": {},
  "kernelspec": {
   "display_name": "Python 2",
   "language": "python",
   "name": "python2"
  },
  "language_info": {
   "codemirror_mode": {
    "name": "ipython",
    "version": 2
   },
   "file_extension": ".py",
   "mimetype": "text/x-python",
   "name": "python",
   "nbconvert_exporter": "python",
   "pygments_lexer": "ipython2",
   "version": "2.7.10"
  }
 },
 "nbformat": 4,
 "nbformat_minor": 2
}
