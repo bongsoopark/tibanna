{
 "cells": [
  {
   "cell_type": "code",
   "execution_count": 2,
   "metadata": {},
   "outputs": [
    {
     "name": "stdout",
     "output_type": "stream",
     "text": [
      "6509\n"
     ]
    }
   ],
   "source": [
    "from core.utils import Tibanna\n",
    "from dcicutils import ff_utils\n",
    "from core.utils import run_workflow\n",
    "from datetime import datetime\n",
    "import time\n",
    "\n",
    "env = 'data'\n",
    "tibanna = Tibanna(env=env)\n",
    "ff = ff_utils.fdn_connection(key={\"default\" : tibanna.ff_keys})\n",
    "\n",
    "intr = \"intermediate file\"\n",
    "\n",
    "Converter = {\n",
    "    \"bwa-mem 0.2.5\":{\"bam\":intr},\n",
    "    \"hi-c-processing-bam 0.2.5\":{\"bam\": \"alignment\",\n",
    "                                 \"pairs\": 'contact list-replicate'},\n",
    "    \"hi-c-processing-pairs 0.2.5\":{\"normvector_juicerformat\": \"juicebox norm vector\",\n",
    "                                   \"hic\": \"contact matrix\",\n",
    "                                   \"mcool\":\"contact matrix\",\n",
    "                                   \"pairs\":\"contact list-combined\"},\n",
    "    \"hi-c-processing-pairs-nore 0.2.5\":{\"normvector_juicerformat\": \"juicebox norm vector\",\n",
    "                                   \"hic\": \"contact matrix\",\n",
    "                                   \"mcool\":\"contact matrix\",\n",
    "                                   \"pairs\":\"contact list-combined\"},\n",
    "    \"hi-c-processing-pairs-nonorm 0.2.5\":{\n",
    "                                   \"hic\": \"contact matrix\",\n",
    "                                   \"mcool\":\"contact matrix\",\n",
    "                                   \"pairs\":\"contact list-combined\"},\n",
    "    \"hi-c-processing-pairs-nore-nonorm 0.2.5\":{\n",
    "                                   \"hic\": \"contact matrix\",\n",
    "                                   \"mcool\":\"contact matrix\",\n",
    "                                   \"pairs\":\"contact list-combined\"}\n",
    "    \n",
    "}\n",
    "\n",
    "\n",
    "\n",
    "my_url = '/search/?sort=-date_created&type=WorkflowRunAwsem&limit=all'\n",
    "all_aws = ff_utils.search_metadata(my_url, ff_env=env)\n",
    "print len(all_aws)"
   ]
  },
  {
   "cell_type": "code",
   "execution_count": 4,
   "metadata": {},
   "outputs": [
    {
     "name": "stdout",
     "output_type": "stream",
     "text": [
      "['hi-c-processing-pairs-nonorm 0.2.5', 'hi-c-processing-pairs 0.2.5', 'hi-c-processing-pairs-nore 0.2.5', 'hi-c-processing-bam 0.2.5', 'bwa-mem 0.2.5', 'hi-c-processing-pairs-nore-nonorm 0.2.5']\n",
      "{u'secondary_file_formats': [u'pairs_px2'], u'extension': u'.pairs.gz', u'format': u'pairs', u'workflow_argument_name': u'merged_pairs', u'value': {u'uuid': u'd3b89043-e103-4284-929f-761929085f9d', u'file_format': u'pairs', u'display_title': u'4DNFIIUM9A7W.pairs.gz', u'accession': u'4DNFIIUM9A7W', u'link_id': u'~files-processed~4DNFIIUM9A7W~', u'principals_allowed': {u'audit': [u'system.Everyone'], u'edit': [u'group.admin', u'submits_for.828cd4fe-ebb0-4b36-a94a-d2e3a36cc989'], u'view': [u'award.b0b9c607-f8b4-4f02-93f4-9895b461334b', u'group.admin', u'group.read-only-admin', u'lab.828cd4fe-ebb0-4b36-a94a-d2e3a36cc989', u'remoteuser.EMBED', u'remoteuser.INDEXER']}, u'file_size': 2933761234, u'@id': u'/files-processed/4DNFIIUM9A7W/', u'@type': [u'FileProcessed', u'File', u'Item']}, u'upload_key': u'd3b89043-e103-4284-929f-761929085f9d/4DNFIIUM9A7W.pairs.gz', u'secondary_file_extensions': [u'.pairs.gz.px2'], u'type': u'Output processed file', u'extra_files': [{u'status': u'to be uploaded by workflow', u'uuid': u'd3b89043-e103-4284-929f-761929085f9d', u'file_format': u'pairs_px2', u'accession': u'4DNFIIUM9A7W', u'filename': u'4DNFIIUM9A7W', u'upload_key': u'd3b89043-e103-4284-929f-761929085f9d/4DNFIIUM9A7W.pairs.gz.px2', u'href': u'/d3b89043-e103-4284-929f-761929085f9d/@@download/4DNFIIUM9A7W.pairs.gz.px2'}]}\n",
      "0\n",
      "0\n",
      "0\n"
     ]
    }
   ],
   "source": [
    "my_wfrs = Converter.keys()\n",
    "print my_wfrs\n",
    "\n",
    "out_n = \"This is an output file of the Hi-C processing pipeline\"\n",
    "int_n = \"This is an intermediate file in the HiC processing pipeline\"\n",
    "\n",
    "success = 0\n",
    "patch_problem = 0\n",
    "deleted = 0\n",
    "for wfr_resp in all_aws:\n",
    "    if wfr_resp['status'] == 'deleted':\n",
    "        deleted +=1\n",
    "        continue\n",
    "        \n",
    "    wfr_name = wfr_resp['display_title'].split(' run')[0]\n",
    "    if wfr_name in my_wfrs:\n",
    "        outputs = wfr_resp.get('output_files')\n",
    "        for output in outputs:\n",
    "            print output\n",
    "            break\n",
    "            form = output['format']\n",
    "            file_id = output['value']\n",
    "            f_type =  Converter[wfr_name][form]\n",
    "            \n",
    "            print form\n",
    "            print file_id\n",
    "            print f_type\n",
    "            \n",
    "            desc = \"\"\n",
    "            if f_type == \"intermediate file\":\n",
    "                desc = int_n\n",
    "            else:\n",
    "                desc = out_n\n",
    "                \n",
    "            patch_data = {\"description\": desc, 'file_type': f_type}\n",
    "            try:\n",
    "                #print file_id\n",
    "                #print(ff_utils.get_metadata(file_id, connection=ff)['uuid'])\n",
    "                #ff_utils.patch_metadata(patch_data, obj_id=file_id ,connection=ff)\n",
    "                success += 1\n",
    "                print success\n",
    "            except Exception as e:\n",
    "                print e\n",
    "                print\n",
    "                patch_problem += 1\n",
    "    break\n",
    "            \n",
    "print success\n",
    "print patch_problem\n",
    "print deleted\n"
   ]
  },
  {
   "cell_type": "code",
   "execution_count": null,
   "metadata": {
    "collapsed": true
   },
   "outputs": [],
   "source": []
  },
  {
   "cell_type": "code",
   "execution_count": null,
   "metadata": {
    "collapsed": true
   },
   "outputs": [],
   "source": []
  }
 ],
 "metadata": {
  "anaconda-cloud": {},
  "kernelspec": {
   "display_name": "Python 2",
   "language": "python",
   "name": "python2"
  },
  "language_info": {
   "codemirror_mode": {
    "name": "ipython",
    "version": 2
   },
   "file_extension": ".py",
   "mimetype": "text/x-python",
   "name": "python",
   "nbconvert_exporter": "python",
   "pygments_lexer": "ipython2",
   "version": "2.7.10"
  }
 },
 "nbformat": 4,
 "nbformat_minor": 2
}
