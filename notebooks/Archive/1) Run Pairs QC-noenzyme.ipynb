{
 "cells": [
  {
   "cell_type": "code",
   "execution_count": 11,
   "metadata": {
    "collapsed": true
   },
   "outputs": [],
   "source": [
    "from core.utils import Tibanna\n",
    "from dcicutils import ff_utils\n",
    "from core.utils import run_workflow\n",
    "from datetime import datetime\n",
    "from core.wfr import *\n",
    "\n",
    "env = 'data'\n",
    "tibanna = Tibanna(env=env)\n",
    "ff = ff_utils.fdn_connection(key={\"default\" : tibanna.ff_keys})\n"
   ]
  },
  {
   "cell_type": "code",
   "execution_count": 10,
   "metadata": {},
   "outputs": [
    {
     "name": "stdout",
     "output_type": "stream",
     "text": [
      "119\n",
      "skipping CHIA-pet\n",
      "skipping TrAC-loop\n",
      "skipping micro-C\n",
      "(u'4DNFI21EIR1D', 'starting the run', u'DNase Hi-C')\n",
      "about to start run pairsqc-single_4DNFI21EIR1D_4_noNZ_DnaseHiC\n",
      "response from aws was: \n",
      " {u'startDate': datetime.datetime(2018, 6, 5, 16, 8, 38, 19000, tzinfo=tzlocal()), 'ResponseMetadata': {'RetryAttempts': 0, 'HTTPStatusCode': 200, 'RequestId': '3bdaea94-68fc-11e8-92c1-cd8546da3d62', 'HTTPHeaders': {'x-amzn-requestid': '3bdaea94-68fc-11e8-92c1-cd8546da3d62', 'content-length': '152', 'content-type': 'application/x-amz-json-1.0'}}, u'executionArn': u'arn:aws:states:us-east-1:643366669028:execution:tibanna_pony:pairsqc-single_4DNFI21EIR1D_4_noNZ_DnaseHiC'}\n",
      "url to view status:\n",
      "https://console.aws.amazon.com/states/home?region=us-east-1#/executions/details/arn:aws:states:us-east-1:643366669028:execution:tibanna_pony:pairsqc-single_4DNFI21EIR1D_4_noNZ_DnaseHiC\n"
     ]
    },
    {
     "ename": "KeyboardInterrupt",
     "evalue": "",
     "output_type": "error",
     "traceback": [
      "\u001b[0;31m---------------------------------------------------------------------------\u001b[0m",
      "\u001b[0;31mKeyboardInterrupt\u001b[0m                         Traceback (most recent call last)",
      "\u001b[0;32m<ipython-input-10-49a332c957a4>\u001b[0m in \u001b[0;36m<module>\u001b[0;34m()\u001b[0m\n\u001b[1;32m     48\u001b[0m             \u001b[0minp_f\u001b[0m \u001b[0;34m=\u001b[0m \u001b[0;34m{\u001b[0m\u001b[0;34m'input_pairs'\u001b[0m\u001b[0;34m:\u001b[0m\u001b[0ma_pairs\u001b[0m\u001b[0;34m[\u001b[0m\u001b[0;34m'accession'\u001b[0m\u001b[0;34m]\u001b[0m\u001b[0;34m,\u001b[0m \u001b[0;34m'chromsizes'\u001b[0m\u001b[0;34m:\u001b[0m\u001b[0mchrsize\u001b[0m\u001b[0;34m}\u001b[0m\u001b[0;34m\u001b[0m\u001b[0m\n\u001b[1;32m     49\u001b[0m             \u001b[0;32mprint\u001b[0m\u001b[0;34m(\u001b[0m\u001b[0ma_pairs\u001b[0m\u001b[0;34m[\u001b[0m\u001b[0;34m'accession'\u001b[0m\u001b[0;34m]\u001b[0m\u001b[0;34m,\u001b[0m \u001b[0;34m'starting the run'\u001b[0m\u001b[0;34m,\u001b[0m \u001b[0mexp_type\u001b[0m\u001b[0;34m)\u001b[0m\u001b[0;34m\u001b[0m\u001b[0m\n\u001b[0;32m---> 50\u001b[0;31m             \u001b[0mrun_missing_wfr\u001b[0m\u001b[0;34m(\u001b[0m\u001b[0mrun_guide\u001b[0m\u001b[0;34m,\u001b[0m \u001b[0minp_f\u001b[0m\u001b[0;34m,\u001b[0m \u001b[0ma_pairs\u001b[0m\u001b[0;34m[\u001b[0m\u001b[0;34m'accession'\u001b[0m\u001b[0;34m]\u001b[0m\u001b[0;34m+\u001b[0m\u001b[0;34m'_4_noNZ_DnaseHiC'\u001b[0m\u001b[0;34m,\u001b[0m \u001b[0menv\u001b[0m\u001b[0;34m,\u001b[0m \u001b[0mtibanna\u001b[0m\u001b[0;34m)\u001b[0m\u001b[0;34m\u001b[0m\u001b[0m\n\u001b[0m\u001b[1;32m     51\u001b[0m             \u001b[0;32mbreak\u001b[0m\u001b[0;34m\u001b[0m\u001b[0m\n\u001b[1;32m     52\u001b[0m \u001b[0;34m\u001b[0m\u001b[0m\n",
      "\u001b[0;32m/Users/koray/Github/tibanna/core/wfr.pyc\u001b[0m in \u001b[0;36mrun_missing_wfr\u001b[0;34m(wf_info, input_files, run_name, env, tibanna, tag)\u001b[0m\n\u001b[1;32m    281\u001b[0m     \u001b[0;31m# print input_json\u001b[0m\u001b[0;34m\u001b[0m\u001b[0;34m\u001b[0m\u001b[0m\n\u001b[1;32m    282\u001b[0m     \u001b[0mrun_workflow\u001b[0m\u001b[0;34m(\u001b[0m\u001b[0minput_json\u001b[0m\u001b[0;34m)\u001b[0m\u001b[0;34m\u001b[0m\u001b[0m\n\u001b[0;32m--> 283\u001b[0;31m     \u001b[0mtime\u001b[0m\u001b[0;34m.\u001b[0m\u001b[0msleep\u001b[0m\u001b[0;34m(\u001b[0m\u001b[0;36m30\u001b[0m\u001b[0;34m)\u001b[0m\u001b[0;34m\u001b[0m\u001b[0m\n\u001b[0m\u001b[1;32m    284\u001b[0m \u001b[0;34m\u001b[0m\u001b[0m\n\u001b[1;32m    285\u001b[0m \u001b[0;34m\u001b[0m\u001b[0m\n",
      "\u001b[0;31mKeyboardInterrupt\u001b[0m: "
     ]
    }
   ],
   "source": [
    "import time\n",
    "\n",
    "# for a given experiment set and some parameters like instrument\n",
    "# print set of files and their partA hic workflow status\n",
    "# if there are one that are running report the number of running cases\n",
    "# if there are file pairs that don't have a corresponding part A, report them separately\n",
    "\n",
    "add_wfr = True\n",
    "# url for hic exps\n",
    "pairs_url = \"/search/?file_format=pairs&file_type=contact+list-replicate&file_type=contact+list-combined\"+ \\\n",
    "            \"&status=released&status=released+to+project&status=uploaded&type=FileProcessed\" + \\\n",
    "            \"&quality_metric.uuid=No+value&limit=all\"\n",
    "pairs_files = ff_utils.search_metadata(pairs_url , ff_env=env)\n",
    "counter = 0\n",
    "completed = 0\n",
    "print len(pairs_files)\n",
    "\n",
    "okay = 0\n",
    "non = 0\n",
    "running = 0\n",
    "for a_pairs in pairs_files:\n",
    "    if a_pairs['accession'] in ['4DNFIF2WIXVB','4DNFIZDCXIL7','4DNFI2WWXWR3','4DNFI21EIR1D']:\n",
    "        #report = get_wfr_out(a_pairs['accession'], 'pairsqc-single 0.2.5', None, env)\n",
    "        if add_wfr:\n",
    "            # get experiment info\n",
    "            exp_acc = a_pairs.get('source_experiments')\n",
    "            \n",
    "            if not exp_acc:\n",
    "                print(a_pairs['accession'], 'does not have source experiments, skipping')\n",
    "                continue\n",
    "            \n",
    "            exp_type, chrsize = extract_no_nz_file(exp_acc[0], env)\n",
    "            \n",
    "            if exp_type == 'skip':\n",
    "                print 'skipping'\n",
    "                continue\n",
    "#     \n",
    "\n",
    "            if exp_type in ['CHIA-pet', 'TrAC-loop','micro-C']:\n",
    "                print 'skipping', exp_type\n",
    "                continue\n",
    "                \n",
    "            parameters = {\"enzyme\": '4',\n",
    "                      \"sample_name\": a_pairs['accession']} \n",
    "\n",
    "            run_guide = {'wf_name': 'pairsqc-single',\n",
    "                         'wf_uuid': 'ae3a87cb-3fa2-469e-97c7-540fc2d0a117',\n",
    "                         'parameters': parameters}\n",
    "\n",
    "            inp_f = {'input_pairs':a_pairs['accession'], 'chromsizes':chrsize} \n",
    "            print(a_pairs['accession'], 'starting the run', exp_type)\n",
    "            run_missing_wfr(run_guide, inp_f, a_pairs['accession']+'_4_noNZ_DnaseHiC', env, tibanna)   \n",
    "            break\n",
    "\n",
    "\n",
    "#         else:\n",
    "#             print(a_pairs['accession'], 'needs a run')\n",
    "# #     elif report == 'running':\n",
    "# #         running += 1\n",
    "# #         print(a_pairs['accession'], 'still running')\n",
    "# #     else:\n",
    "# #         okay += 1\n",
    "     \n",
    "print(\"okay, not okay, running\")    \n",
    "print(okay, non, running)\n"
   ]
  },
  {
   "cell_type": "code",
   "execution_count": null,
   "metadata": {
    "collapsed": true
   },
   "outputs": [],
   "source": [
    "# Release pairs qc\n",
    "\n",
    "pairs_url = '/search/?file_format=pairs&status=released&status=released%20to%20project&status=uploaded&type=FileProcessed'\n",
    "pairs_files = ff_utils.get_metadata(pairs_url , connection=ff)['@graph']\n",
    "pairs_files = [i for i in pairs_files if i.get('quality_metric')]\n",
    "print len(pairs_files)\n",
    "success = 0\n",
    "patch_problem = 0\n",
    "\n",
    "for pairs in pairs_files:\n",
    "    pairs_status = pairs['status']\n",
    "    if pairs_status in ['released', 'released to project']:\n",
    "        qc_status = ff_utils.get_metadata(pairs['quality_metric'],connection=ff)['status']\n",
    "        if qc_status != pairs_status:\n",
    "            patch_data = {\"status\": pairs_status}\n",
    "            try:\n",
    "                ff_utils.patch_metadata(patch_data, obj_id=pairs['quality_metric'] ,connection=ff)\n",
    "                success += 1\n",
    "                print success\n",
    "            except Exception as e:\n",
    "                print e\n",
    "                print\n",
    "                patch_problem += 1\n",
    "print success\n",
    "print patch_problem\n",
    "\n"
   ]
  },
  {
   "cell_type": "code",
   "execution_count": null,
   "metadata": {
    "collapsed": true
   },
   "outputs": [],
   "source": []
  }
 ],
 "metadata": {
  "anaconda-cloud": {},
  "kernelspec": {
   "display_name": "Python 2",
   "language": "python",
   "name": "python2"
  },
  "language_info": {
   "codemirror_mode": {
    "name": "ipython",
    "version": 2
   },
   "file_extension": ".py",
   "mimetype": "text/x-python",
   "name": "python",
   "nbconvert_exporter": "python",
   "pygments_lexer": "ipython2",
   "version": "2.7.10"
  }
 },
 "nbformat": 4,
 "nbformat_minor": 2
}
