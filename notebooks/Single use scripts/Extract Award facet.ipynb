{
 "cells": [
  {
   "cell_type": "code",
   "execution_count": 17,
   "metadata": {},
   "outputs": [
    {
     "name": "stdout",
     "output_type": "stream",
     "text": [
      "40\n"
     ]
    }
   ],
   "source": [
    "from core.utils import Tibanna\n",
    "from dcicutils import ff_utils\n",
    "from datetime import datetime\n",
    "from core.wfr import *\n",
    "\n",
    "env = 'data'\n",
    "tibanna = Tibanna(env=env)\n",
    "ff = ff_utils.fdn_connection(key={\"default\" : tibanna.ff_keys})\n",
    "\n",
    "set_url = '/search/?type=Award&limit=all'\n",
    "run_sets = ff_utils.search_metadata(set_url ,ff_env = env)\n",
    "print len(run_sets)\n",
    "\n",
    "all_labs = ff_utils.search_metadata('/search/?type=Lab&limit=all' ,ff_env = env)"
   ]
  },
  {
   "cell_type": "code",
   "execution_count": 22,
   "metadata": {},
   "outputs": [
    {
     "name": "stdout",
     "output_type": "stream",
     "text": [
      "/awards/TCPA-2017-08/ TCPA\n",
      "TCPA-Zhao\n",
      "/awards/TCPA-2017-07/ TCPA\n",
      "TCPA-\n",
      "/awards/TCPA-2017-06/ TCPA\n",
      "TCPA-\n",
      "/awards/TCPA-2017-05/ TCPA\n",
      "TCPA-\n",
      "/awards/TCPA-2017-04/ TCPA\n",
      "TCPA-Henikoff\n",
      "/awards/TCPA-2017-03/ TCPA\n",
      "TCPA-\n",
      "/awards/TCPA-2017-02/ TCPA\n",
      "TCPA-Lab\n",
      "/awards/TCPA-2017-01/ TCPA\n",
      "TCPA-\n",
      "/awards/1U01CA200060-01/ DCIC\n",
      "DCIC-Lab, Wang\n",
      "/awards/1U01CA200147-01/ OH\n",
      "OH-Chien, Subramaniam, Zhong\n",
      "/awards/1U01DA040582-01/ NBC\n",
      "NBC-Lomvardas\n",
      "/awards/1U01DA040583-01/ NBC\n",
      "NBC-Ritland, Groudine\n",
      "/awards/1U01DA040588-01/ NBC\n",
      "NBC-Kaufman\n",
      "/awards/1U01DA040601-01/ NBC\n",
      "NBC-Brangwynne\n",
      "/awards/1U01DA040612-01/ NBC\n",
      "NBC-Rinn, Hess, Guttman\n",
      "/awards/1U01DA040709-01/ NBC\n",
      "NBC-Gerace\n",
      "/awards/1U01EB021223-01/ IT\n",
      "IT-Birney, Ries, Ellenberg\n",
      "/awards/1U01EB021230-01/ IT\n",
      "IT-Lam\n",
      "/awards/1U01EB021232-01/ IT\n",
      "IT-Baddeley, Bewersdorf\n",
      "/awards/1U01EB021236-01/ IT\n",
      "IT-Darzacq, Singer\n",
      "/awards/1U01EB021237-01/ IT\n",
      "IT-Liphardt\n",
      "/awards/1U01EB021238-01/ IT\n",
      "IT-Grunwald\n",
      "/awards/1U01EB021239-01/ IT\n",
      "IT-Levine, Gregor\n",
      "/awards/1U01EB021240-01/ IT\n",
      "IT-Stanley, Cai\n",
      "/awards/1U01EB021247-01/ IT\n",
      "IT-Ellisman, O'Shea\n",
      "/awards/1U01HL129958-01/ NT\n",
      "NT-Zipfel, Lin, Lis\n",
      "/awards/1U01HL129971-01/ NT\n",
      "NT-Tanay, Fraser\n",
      "/awards/1U01HL129998-01/ NT\n",
      "NT-Blobel, Raj\n",
      "/awards/1U01HL130007-01/ NT\n",
      "NT-Ismagilov\n",
      "/awards/1U01HL130010-01/ NT\n",
      "NT-Aiden\n",
      "/awards/1U54DK107979-01/ NOFIC\n",
      "NOFIC-Disteche, Trapnell, Murry, Noble, Shendure\n",
      "/awards/1U54DK107980-01/ NOFIC\n",
      "NOFIC-Wolfe, Maehr, Rando, Marko, Cisse, Sontheimer, Misteli, Mirny, Dekker\n",
      "/awards/1U54DK107965-01/ NOFIC\n",
      "NOFIC-Ma, Zhao, Gilbert, Steensel, Belmont\n",
      "/awards/1U54DK107967-01/ NOFIC\n",
      "NOFIC-Ruan\n",
      "/awards/1U54DK107977-01/ NOFIC\n",
      "NOFIC-Hu, Pombo, Murre, Ren\n",
      "/awards/1U54DK107981-01/ NOFIC\n",
      "NOFIC-Chen, Alber\n",
      "/awards/1U01CA200059-01/ DCIC\n",
      "DCIC-Kharchenko, Pfister, DCIC, Park, Lab\n"
     ]
    }
   ],
   "source": [
    "def find_labs(award_id):\n",
    "    labs = []\n",
    "    for i in all_labs:\n",
    "        awards = []\n",
    "        awards = [aw['@id'] for aw in i['awards']]\n",
    "        if award_id in awards:\n",
    "            labs.append(i['display_title'])\n",
    "    return labs\n",
    "\n",
    "for award in run_sets:\n",
    "    if award.get('viewing_group') == '4DN':\n",
    "        gr = award['description'].split(\":\")[0]\n",
    "        print award['@id'], gr\n",
    "        labs = find_labs(award['@id'])\n",
    "        surnames = [i.split(',')[0].split(' ')[-1] for i in labs]\n",
    "        print gr+\"-\"+\", \".join(surnames)\n",
    "        "
   ]
  },
  {
   "cell_type": "code",
   "execution_count": null,
   "metadata": {
    "collapsed": true
   },
   "outputs": [],
   "source": []
  }
 ],
 "metadata": {
  "kernelspec": {
   "display_name": "Python 2",
   "language": "python",
   "name": "python2"
  },
  "language_info": {
   "codemirror_mode": {
    "name": "ipython",
    "version": 2
   },
   "file_extension": ".py",
   "mimetype": "text/x-python",
   "name": "python",
   "nbconvert_exporter": "python",
   "pygments_lexer": "ipython2",
   "version": "2.7.10"
  }
 },
 "nbformat": 4,
 "nbformat_minor": 2
}
